{
 "cells": [
  {
   "cell_type": "code",
   "execution_count": 3,
   "metadata": {
    "ExecuteTime": {
     "end_time": "2018-06-08T20:00:09.700526Z",
     "start_time": "2018-06-08T20:00:09.696031Z"
    }
   },
   "outputs": [],
   "source": [
    "from __future__ import absolute_import\n",
    "from __future__ import division\n",
    "from __future__ import print_function\n",
    "import sys\n",
    "sys.path.insert(0,'../slim/')\n",
    "import os\n",
    "import json\n",
    "import math\n",
    "import time\n",
    "import numpy as np\n",
    "import tensorflow as tf"
   ]
  },
  {
   "cell_type": "code",
   "execution_count": 4,
   "metadata": {
    "ExecuteTime": {
     "end_time": "2018-06-08T20:00:10.619611Z",
     "start_time": "2018-06-08T20:00:10.616567Z"
    }
   },
   "outputs": [],
   "source": [
    "from nets import nets_factory\n",
    "from preprocessing import preprocessing_factory\n",
    "from PIL import Image\n",
    "import cv2\n",
    "slim = tf.contrib.slim"
   ]
  },
  {
   "cell_type": "code",
   "execution_count": 5,
   "metadata": {
    "ExecuteTime": {
     "end_time": "2018-06-08T20:01:57.901435Z",
     "start_time": "2018-06-08T20:01:57.898072Z"
    }
   },
   "outputs": [],
   "source": [
    "import pandas as pd"
   ]
  },
  {
   "cell_type": "code",
   "execution_count": 89,
   "metadata": {
    "ExecuteTime": {
     "end_time": "2018-06-08T19:58:21.269201Z",
     "start_time": "2018-06-08T19:58:21.265516Z"
    }
   },
   "outputs": [],
   "source": [
    "tf.logging.set_verbosity(tf.logging.INFO)"
   ]
  },
  {
   "cell_type": "code",
   "execution_count": 47,
   "metadata": {
    "ExecuteTime": {
     "end_time": "2018-06-08T20:14:22.540887Z",
     "start_time": "2018-06-08T20:14:22.536389Z"
    }
   },
   "outputs": [],
   "source": [
    "filenames = pd.read_csv('valid_image_paths.csv',header=None).iloc[:,0].tolist()"
   ]
  },
  {
   "cell_type": "code",
   "execution_count": null,
   "metadata": {},
   "outputs": [],
   "source": [
    "'MURA-v1.1/valid/XR_ELBOW/patient'"
   ]
  },
  {
   "cell_type": "code",
   "execution_count": 29,
   "metadata": {
    "ExecuteTime": {
     "end_time": "2018-06-08T20:08:18.673060Z",
     "start_time": "2018-06-08T20:08:18.658465Z"
    }
   },
   "outputs": [],
   "source": [
    "for filename in filenames:\n",
    "    image=cv2.imread(filename)\n",
    "    res=cv2.resize(image,(299,299),interpolation=cv2.INTER_CUBIC)\n",
    "    cv2.imwrite(filename, res)"
   ]
  },
  {
   "cell_type": "code",
   "execution_count": 30,
   "metadata": {
    "ExecuteTime": {
     "end_time": "2018-06-08T20:08:40.175018Z",
     "start_time": "2018-06-08T20:08:21.746517Z"
    }
   },
   "outputs": [
    {
     "name": "stdout",
     "output_type": "stream",
     "text": [
      "WARNING:tensorflow:From <ipython-input-30-babbd974e10d>:3: get_or_create_global_step (from tensorflow.contrib.framework.python.ops.variables) is deprecated and will be removed in a future version.\n",
      "Instructions for updating:\n",
      "Please switch to tf.train.get_or_create_global_step\n",
      "INFO:tensorflow:Scale of 0 disables regularizer.\n",
      "INFO:tensorflow:Scale of 0 disables regularizer.\n",
      "INFO:tensorflow:Restoring parameters from /home/paperspace/stanford/train_logs/model.ckpt-171573\n"
     ]
    }
   ],
   "source": [
    "result = {}\n",
    "with tf.Graph().as_default():\n",
    "        tf_global_step = slim.get_or_create_global_step()\n",
    "        network_fn = nets_factory.get_network_fn(\n",
    "        'inception_resnet_v2',\n",
    "        num_classes=(2),\n",
    "        is_training=False)\n",
    "        preprocessing_name = 'inception_resnet_v2'\n",
    "        image_preprocessing_fn = preprocessing_factory.get_preprocessing(\n",
    "            preprocessing_name,\n",
    "            is_training=False)\n",
    "        test_image_size = network_fn.default_image_size\n",
    "        checkpoint_path = tf.train.latest_checkpoint('/home/paperspace/stanford/train_logs/')\n",
    "        batch_size = 1\n",
    "        tensor_input = tf.placeholder(tf.float32, [None, test_image_size, test_image_size, 3])\n",
    "        logits, _ = network_fn(tensor_input)\n",
    "        logits = tf.nn.top_k(logits, 2)\n",
    "        config = tf.ConfigProto()\n",
    "        config.gpu_options.allow_growth = True\n",
    "        with tf.Session(config=config) as sess:\n",
    "            sess.run(tf.global_variables_initializer())\n",
    "            saver = tf.train.Saver()\n",
    "            saver.restore(sess, checkpoint_path)\n",
    "            for filename in filenames:\n",
    "                image = tf.read_file(filename)\n",
    "                image = tf.image.decode_jpeg(image, channels=0)\n",
    "                processed_image = image_preprocessing_fn(image, test_image_size, test_image_size)\n",
    "                processed_image = sess.run(processed_image)\n",
    "                images = np.array([processed_image])\n",
    "                predictions = sess.run(logits, feed_dict = {tensor_input : images})\n",
    "                pre = predictions.values.argmax()\n",
    "                result[filename] = pre"
   ]
  },
  {
   "cell_type": "code",
   "execution_count": 31,
   "metadata": {
    "ExecuteTime": {
     "end_time": "2018-06-08T20:08:41.969468Z",
     "start_time": "2018-06-08T20:08:41.965975Z"
    }
   },
   "outputs": [
    {
     "data": {
      "text/plain": [
       "{'../data_all/negative/patient00011_study1_negative_image2.png': 0,\n",
       " '../data_all/positive/patient00003_study1_positive_image1.png': 0}"
      ]
     },
     "execution_count": 31,
     "metadata": {},
     "output_type": "execute_result"
    }
   ],
   "source": [
    "result"
   ]
  },
  {
   "cell_type": "code",
   "execution_count": 33,
   "metadata": {
    "ExecuteTime": {
     "end_time": "2018-06-08T20:09:40.099068Z",
     "start_time": "2018-06-08T20:09:40.094320Z"
    }
   },
   "outputs": [
    {
     "data": {
      "text/plain": [
       "{'../data_all/negative/patient00011_study1_negative_image2.png': 0,\n",
       " '../data_all/positive/patient00003_study1_positive_image1.png': 0}"
      ]
     },
     "execution_count": 33,
     "metadata": {},
     "output_type": "execute_result"
    }
   ],
   "source": [
    "result"
   ]
  },
  {
   "cell_type": "code",
   "execution_count": 35,
   "metadata": {
    "ExecuteTime": {
     "end_time": "2018-06-08T20:10:09.952117Z",
     "start_time": "2018-06-08T20:10:09.946931Z"
    }
   },
   "outputs": [
    {
     "data": {
      "text/plain": [
       "dict_keys(['../data_all/negative/patient00011_study1_negative_image2.png', '../data_all/positive/patient00003_study1_positive_image1.png'])"
      ]
     },
     "execution_count": 35,
     "metadata": {},
     "output_type": "execute_result"
    }
   ],
   "source": [
    "result.keys()"
   ]
  },
  {
   "cell_type": "code",
   "execution_count": 44,
   "metadata": {
    "ExecuteTime": {
     "end_time": "2018-06-08T20:11:56.410243Z",
     "start_time": "2018-06-08T20:11:56.407022Z"
    }
   },
   "outputs": [],
   "source": [
    "with open('output.csv','w') as file:\n",
    "    for i in list(result.keys()):\n",
    "        file.write(i+',')\n",
    "        file.write(str(result[i]))\n",
    "        file.write('\\n')"
   ]
  },
  {
   "cell_type": "code",
   "execution_count": null,
   "metadata": {},
   "outputs": [],
   "source": []
  }
 ],
 "metadata": {
  "kernelspec": {
   "display_name": "Python 3",
   "language": "python",
   "name": "python3"
  },
  "language_info": {
   "codemirror_mode": {
    "name": "ipython",
    "version": 3
   },
   "file_extension": ".py",
   "mimetype": "text/x-python",
   "name": "python",
   "nbconvert_exporter": "python",
   "pygments_lexer": "ipython3",
   "version": "3.6.5"
  },
  "latex_envs": {
   "LaTeX_envs_menu_present": true,
   "autoclose": false,
   "autocomplete": true,
   "bibliofile": "biblio.bib",
   "cite_by": "apalike",
   "current_citInitial": 1,
   "eqLabelWithNumbers": true,
   "eqNumInitial": 1,
   "hotkeys": {
    "equation": "Ctrl-E",
    "itemize": "Ctrl-I"
   },
   "labels_anchors": false,
   "latex_user_defs": false,
   "report_style_numbering": false,
   "user_envs_cfg": false
  },
  "toc": {
   "nav_menu": {},
   "number_sections": true,
   "sideBar": true,
   "skip_h1_title": false,
   "toc_cell": false,
   "toc_position": {},
   "toc_section_display": "block",
   "toc_window_display": false
  },
  "varInspector": {
   "cols": {
    "lenName": 16,
    "lenType": 16,
    "lenVar": 40
   },
   "kernels_config": {
    "python": {
     "delete_cmd_postfix": "",
     "delete_cmd_prefix": "del ",
     "library": "var_list.py",
     "varRefreshCmd": "print(var_dic_list())"
    },
    "r": {
     "delete_cmd_postfix": ") ",
     "delete_cmd_prefix": "rm(",
     "library": "var_list.r",
     "varRefreshCmd": "cat(var_dic_list()) "
    }
   },
   "types_to_exclude": [
    "module",
    "function",
    "builtin_function_or_method",
    "instance",
    "_Feature"
   ],
   "window_display": true
  }
 },
 "nbformat": 4,
 "nbformat_minor": 2
}
