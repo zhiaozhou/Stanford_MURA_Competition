{
 "cells": [
  {
   "cell_type": "code",
   "execution_count": 70,
   "metadata": {
    "ExecuteTime": {
     "end_time": "2018-06-03T19:00:11.148390Z",
     "start_time": "2018-06-03T19:00:11.145896Z"
    }
   },
   "outputs": [],
   "source": [
    "import pandas as pd\n",
    "import shutil\n",
    "import glob\n",
    "import os"
   ]
  },
  {
   "cell_type": "code",
   "execution_count": 71,
   "metadata": {
    "ExecuteTime": {
     "end_time": "2018-06-03T19:00:12.229818Z",
     "start_time": "2018-06-03T19:00:11.651032Z"
    },
    "scrolled": false
   },
   "outputs": [],
   "source": [
    "data_list = glob.glob('raw_data/MURA-v1.1/*/*/*/*/*.png')"
   ]
  },
  {
   "cell_type": "code",
   "execution_count": 74,
   "metadata": {
    "ExecuteTime": {
     "end_time": "2018-06-03T19:00:38.380627Z",
     "start_time": "2018-06-03T19:00:38.378013Z"
    }
   },
   "outputs": [],
   "source": [
    "i=data_list[0]"
   ]
  },
  {
   "cell_type": "code",
   "execution_count": 75,
   "metadata": {
    "ExecuteTime": {
     "end_time": "2018-06-03T19:00:39.830873Z",
     "start_time": "2018-06-03T19:00:39.827340Z"
    }
   },
   "outputs": [
    {
     "data": {
      "text/plain": [
       "'raw_data/MURA-v1.1/valid/XR_FOREARM/patient11395/study1_positive/image2.png'"
      ]
     },
     "execution_count": 75,
     "metadata": {},
     "output_type": "execute_result"
    }
   ],
   "source": [
    "i"
   ]
  },
  {
   "cell_type": "code",
   "execution_count": 79,
   "metadata": {
    "ExecuteTime": {
     "end_time": "2018-06-03T19:01:26.325520Z",
     "start_time": "2018-06-03T19:01:26.320957Z"
    }
   },
   "outputs": [
    {
     "data": {
      "text/plain": [
       "'data_all/positive/'"
      ]
     },
     "execution_count": 79,
     "metadata": {},
     "output_type": "execute_result"
    }
   ],
   "source": [
    "'data_all' + '/' + i.split('/')[-2].split('_')[-1] + '/'"
   ]
  },
  {
   "cell_type": "code",
   "execution_count": 80,
   "metadata": {
    "ExecuteTime": {
     "end_time": "2018-06-03T19:01:51.088872Z",
     "start_time": "2018-06-03T19:01:49.605582Z"
    }
   },
   "outputs": [
    {
     "name": "stdout",
     "output_type": "stream",
     "text": [
      "0/40005 finished\n",
      "1000/40005 finished\n",
      "2000/40005 finished\n",
      "3000/40005 finished\n",
      "4000/40005 finished\n",
      "5000/40005 finished\n",
      "6000/40005 finished\n",
      "7000/40005 finished\n",
      "8000/40005 finished\n",
      "9000/40005 finished\n",
      "10000/40005 finished\n",
      "11000/40005 finished\n",
      "12000/40005 finished\n",
      "13000/40005 finished\n",
      "14000/40005 finished\n",
      "15000/40005 finished\n",
      "16000/40005 finished\n",
      "17000/40005 finished\n",
      "18000/40005 finished\n",
      "19000/40005 finished\n",
      "20000/40005 finished\n",
      "21000/40005 finished\n",
      "22000/40005 finished\n",
      "23000/40005 finished\n",
      "24000/40005 finished\n",
      "25000/40005 finished\n",
      "26000/40005 finished\n",
      "27000/40005 finished\n",
      "28000/40005 finished\n",
      "29000/40005 finished\n",
      "30000/40005 finished\n",
      "31000/40005 finished\n",
      "32000/40005 finished\n",
      "33000/40005 finished\n",
      "34000/40005 finished\n",
      "35000/40005 finished\n",
      "36000/40005 finished\n",
      "37000/40005 finished\n",
      "38000/40005 finished\n",
      "39000/40005 finished\n",
      "40000/40005 finished\n"
     ]
    }
   ],
   "source": [
    "iter = 0\n",
    "for i in data_list:\n",
    "    if not os.path.isdir('data_all' + '/' + i.split('/')[-2].split('_')[-1] + '/'):\n",
    "        os.makedirs('data_all' + '/' + i.split('/')[-2].split('_')[-1] + '/')\n",
    "    shutil.move(i, 'data_all' + '/' + i.split('/')[-2].split('_')[-1] + '/' + '/' + i.split('/')[-3] +\n",
    "                \"_\" + i.split('/')[-2] + '_' + i.split('/')[-1])\n",
    "    if iter % 1000 == 0:\n",
    "        print('{}/{} finished'.format(iter,len(data_list)))\n",
    "    iter += 1"
   ]
  },
  {
   "cell_type": "code",
   "execution_count": 37,
   "metadata": {
    "ExecuteTime": {
     "end_time": "2018-06-03T18:30:56.069718Z",
     "start_time": "2018-06-03T18:30:54.553074Z"
    }
   },
   "outputs": [
    {
     "name": "stdout",
     "output_type": "stream",
     "text": [
      "0/40005 finished\n",
      "1000/40005 finished\n",
      "2000/40005 finished\n",
      "3000/40005 finished\n",
      "4000/40005 finished\n",
      "5000/40005 finished\n",
      "6000/40005 finished\n",
      "7000/40005 finished\n",
      "8000/40005 finished\n",
      "9000/40005 finished\n",
      "10000/40005 finished\n",
      "11000/40005 finished\n",
      "12000/40005 finished\n",
      "13000/40005 finished\n",
      "14000/40005 finished\n",
      "15000/40005 finished\n",
      "16000/40005 finished\n",
      "17000/40005 finished\n",
      "18000/40005 finished\n",
      "19000/40005 finished\n",
      "20000/40005 finished\n",
      "21000/40005 finished\n",
      "22000/40005 finished\n",
      "23000/40005 finished\n",
      "24000/40005 finished\n",
      "25000/40005 finished\n",
      "26000/40005 finished\n",
      "27000/40005 finished\n",
      "28000/40005 finished\n",
      "29000/40005 finished\n",
      "30000/40005 finished\n",
      "31000/40005 finished\n",
      "32000/40005 finished\n",
      "33000/40005 finished\n",
      "34000/40005 finished\n",
      "35000/40005 finished\n",
      "36000/40005 finished\n",
      "37000/40005 finished\n",
      "38000/40005 finished\n",
      "39000/40005 finished\n",
      "40000/40005 finished\n"
     ]
    }
   ],
   "source": [
    "iter = 0\n",
    "for i in data_list:\n",
    "    if not os.path.isdir('data/' + i.split('/')[-4] + '/' + i.split('/')[-5] + '/' + i.split('/')[-2].split('_')[-1] + '/'):\n",
    "        os.makedirs('data/' + i.split('/')[-4] + '/' + i.split('/')[-5] + '/' + i.split('/')[-2].split('_')[-1] + '/')\n",
    "    shutil.move(i, 'data/' + i.split('/')[-4] + '/' + i.split('/')[-5] + '/' +\n",
    "                i.split('/')[-2].split('_')[-1] + '/' + i.split('/')[-3] +\n",
    "                \"_\" + i.split('/')[-2] + '_' + i.split('/')[-1])\n",
    "    if iter % 1000 == 0:\n",
    "        print('{}/{} finished'.format(iter,len(data_list)))\n",
    "    iter += 1"
   ]
  },
  {
   "cell_type": "code",
   "execution_count": 39,
   "metadata": {
    "ExecuteTime": {
     "end_time": "2018-06-03T18:31:50.175269Z",
     "start_time": "2018-06-03T18:31:50.153158Z"
    }
   },
   "outputs": [
    {
     "data": {
      "text/plain": [
       "4931"
      ]
     },
     "execution_count": 39,
     "metadata": {},
     "output_type": "execute_result"
    }
   ],
   "source": [
    "len(glob.glob('data/XR_ELBOW/train/*/*.png'))"
   ]
  },
  {
   "cell_type": "code",
   "execution_count": 40,
   "metadata": {
    "ExecuteTime": {
     "end_time": "2018-06-03T18:31:57.286999Z",
     "start_time": "2018-06-03T18:31:57.278753Z"
    }
   },
   "outputs": [
    {
     "data": {
      "text/plain": [
       "465"
      ]
     },
     "execution_count": 40,
     "metadata": {},
     "output_type": "execute_result"
    }
   ],
   "source": [
    "len(glob.glob('data/XR_ELBOW/valid/*/*.png'))"
   ]
  },
  {
   "cell_type": "code",
   "execution_count": 46,
   "metadata": {
    "ExecuteTime": {
     "end_time": "2018-06-03T18:36:00.212505Z",
     "start_time": "2018-06-03T18:36:00.103570Z"
    }
   },
   "outputs": [
    {
     "data": {
      "text/plain": [
       "34534"
      ]
     },
     "execution_count": 46,
     "metadata": {},
     "output_type": "execute_result"
    }
   ],
   "source": [
    "len(glob.glob('data_all/train/*/*.png'))"
   ]
  },
  {
   "cell_type": "code",
   "execution_count": 47,
   "metadata": {
    "ExecuteTime": {
     "end_time": "2018-06-03T18:36:06.641275Z",
     "start_time": "2018-06-03T18:36:06.626121Z"
    }
   },
   "outputs": [
    {
     "data": {
      "text/plain": [
       "2778"
      ]
     },
     "execution_count": 47,
     "metadata": {},
     "output_type": "execute_result"
    }
   ],
   "source": [
    "len(glob.glob('data_all/valid/*/*.png'))"
   ]
  },
  {
   "cell_type": "code",
   "execution_count": 50,
   "metadata": {
    "ExecuteTime": {
     "end_time": "2018-06-03T18:54:30.710163Z",
     "start_time": "2018-06-03T18:54:30.590368Z"
    }
   },
   "outputs": [],
   "source": [
    "list = glob.glob('data_all/*/*/*.png')"
   ]
  },
  {
   "cell_type": "code",
   "execution_count": 67,
   "metadata": {
    "ExecuteTime": {
     "end_time": "2018-06-03T18:58:28.342338Z",
     "start_time": "2018-06-03T18:58:28.338091Z"
    }
   },
   "outputs": [
    {
     "data": {
      "text/plain": [
       "'data_all/negative'"
      ]
     },
     "execution_count": 67,
     "metadata": {},
     "output_type": "execute_result"
    }
   ],
   "source": [
    "'/'.join([list[0].split('/')[0]]+list[0].split('/')[2:3])"
   ]
  }
 ],
 "metadata": {
  "kernelspec": {
   "display_name": "Python 3",
   "language": "python",
   "name": "python3"
  },
  "language_info": {
   "codemirror_mode": {
    "name": "ipython",
    "version": 3
   },
   "file_extension": ".py",
   "mimetype": "text/x-python",
   "name": "python",
   "nbconvert_exporter": "python",
   "pygments_lexer": "ipython3",
   "version": "3.6.5"
  },
  "latex_envs": {
   "LaTeX_envs_menu_present": true,
   "autoclose": false,
   "autocomplete": true,
   "bibliofile": "biblio.bib",
   "cite_by": "apalike",
   "current_citInitial": 1,
   "eqLabelWithNumbers": true,
   "eqNumInitial": 1,
   "hotkeys": {
    "equation": "Ctrl-E",
    "itemize": "Ctrl-I"
   },
   "labels_anchors": false,
   "latex_user_defs": false,
   "report_style_numbering": false,
   "user_envs_cfg": false
  },
  "toc": {
   "nav_menu": {},
   "number_sections": true,
   "sideBar": true,
   "skip_h1_title": false,
   "toc_cell": false,
   "toc_position": {},
   "toc_section_display": "block",
   "toc_window_display": false
  },
  "varInspector": {
   "cols": {
    "lenName": 16,
    "lenType": 16,
    "lenVar": 40
   },
   "kernels_config": {
    "python": {
     "delete_cmd_postfix": "",
     "delete_cmd_prefix": "del ",
     "library": "var_list.py",
     "varRefreshCmd": "print(var_dic_list())"
    },
    "r": {
     "delete_cmd_postfix": ") ",
     "delete_cmd_prefix": "rm(",
     "library": "var_list.r",
     "varRefreshCmd": "cat(var_dic_list()) "
    }
   },
   "types_to_exclude": [
    "module",
    "function",
    "builtin_function_or_method",
    "instance",
    "_Feature"
   ],
   "window_display": true
  }
 },
 "nbformat": 4,
 "nbformat_minor": 2
}
